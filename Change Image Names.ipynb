{
 "cells": [
  {
   "cell_type": "code",
   "execution_count": 1,
   "metadata": {},
   "outputs": [],
   "source": [
    "import math\n",
    "import pandas as pd\n",
    "import numpy as np\n",
    "import matplotlib.pyplot as plt\n",
    "import os"
   ]
  },
  {
   "cell_type": "markdown",
   "metadata": {},
   "source": [
    "# Change images to numbers"
   ]
  },
  {
   "cell_type": "code",
   "execution_count": 13,
   "metadata": {},
   "outputs": [
    {
     "ename": "FileNotFoundError",
     "evalue": "[Errno 2] No such file or directory: 'images/month2/'",
     "output_type": "error",
     "traceback": [
      "\u001b[0;31m---------------------------------------------------------------------------\u001b[0m",
      "\u001b[0;31mFileNotFoundError\u001b[0m                         Traceback (most recent call last)",
      "\u001b[0;32m<ipython-input-13-c9b6c24cb644>\u001b[0m in \u001b[0;36m<module>\u001b[0;34m\u001b[0m\n\u001b[1;32m      1\u001b[0m \u001b[0mpath\u001b[0m \u001b[0;34m=\u001b[0m \u001b[0;34m'images/month2/'\u001b[0m\u001b[0;34m\u001b[0m\u001b[0;34m\u001b[0m\u001b[0m\n\u001b[0;32m----> 2\u001b[0;31m \u001b[0mdir_contents\u001b[0m \u001b[0;34m=\u001b[0m \u001b[0mnp\u001b[0m\u001b[0;34m.\u001b[0m\u001b[0marray\u001b[0m\u001b[0;34m(\u001b[0m\u001b[0mos\u001b[0m\u001b[0;34m.\u001b[0m\u001b[0mlistdir\u001b[0m\u001b[0;34m(\u001b[0m\u001b[0mpath\u001b[0m\u001b[0;34m)\u001b[0m\u001b[0;34m)\u001b[0m\u001b[0;34m\u001b[0m\u001b[0;34m\u001b[0m\u001b[0m\n\u001b[0m\u001b[1;32m      3\u001b[0m \u001b[0;34m\u001b[0m\u001b[0m\n\u001b[1;32m      4\u001b[0m \u001b[0;31m############################################################\u001b[0m\u001b[0;34m\u001b[0m\u001b[0;34m\u001b[0m\u001b[0;34m\u001b[0m\u001b[0m\n\u001b[1;32m      5\u001b[0m \u001b[0;31m#  Make sure we don't trip over ourselves renaming stuff\u001b[0m\u001b[0;34m\u001b[0m\u001b[0;34m\u001b[0m\u001b[0;34m\u001b[0m\u001b[0m\n",
      "\u001b[0;31mFileNotFoundError\u001b[0m: [Errno 2] No such file or directory: 'images/month2/'"
     ]
    }
   ],
   "source": [
    "path = 'images/month2/'\n",
    "dir_contents = np.array(os.listdir(path))\n",
    "\n",
    "############################################################\n",
    "#  Make sure we don't trip over ourselves renaming stuff\n",
    "############################################################\n",
    "\n",
    "if ('1.jpg' in dir_contents):\n",
    "    switch = 'a'\n",
    "else:\n",
    "    switch = ''\n",
    "\n",
    "############################################################\n",
    "# Rename Files\n",
    "############################################################\n",
    "\n",
    "for i in np.arange(0,len(dir_contents)):\n",
    "    os.rename(path+str(dir_contents[i]),path+str(i)+switch+'.jpg')\n",
    "len(dir_contents)"
   ]
  },
  {
   "cell_type": "markdown",
   "metadata": {},
   "source": [
    "# Create HTML page for month"
   ]
  },
  {
   "cell_type": "code",
   "execution_count": 11,
   "metadata": {},
   "outputs": [],
   "source": [
    "import math\n",
    "import pandas as pd\n",
    "import numpy as np\n",
    "import matplotlib.pyplot as plt\n",
    "import os\n",
    "\n",
    "#groups = ['pst','month1','month2','month3','month4']\n",
    "groups = 'blja;dsfkl'"
   ]
  },
  {
   "cell_type": "code",
   "execution_count": 8,
   "metadata": {},
   "outputs": [],
   "source": [
    "#Select group\n",
    "\n",
    "os.chdir('/home/pj/pj_blog/pics/')\n",
    "f = open('example_pics.html','r')\n",
    "text = f.read()\n",
    "f.close()"
   ]
  },
  {
   "cell_type": "code",
   "execution_count": 9,
   "metadata": {},
   "outputs": [],
   "source": [
    "for i in np.arange(0,len(groups)):\n",
    "    group = groups[i]\n",
    "\n",
    "    base_img_folder = '/home/pj/pj_blog/images/'+group+'/'\n",
    "    albums = os.listdir(base_img_folder)\n",
    "    newline = '\\t\\t\\t\\t\\t\\t\\t\\t\\t\\t\\t\\t<div class=\"col-4\"><span class=\"image fit\"><img src=\"pathzzz\" alt=\"\" class=\"rotateimg0\" /></span></div>\\n'\n",
    "    big0 = text.split('<!-- Content -->')[0]\n",
    "    big2 = text.split('<!-- Content -->')[2]\n",
    "    first = text.split('<!-- Content -->')[1].split(newline)[0]\n",
    "    last = text.split('<!-- Content -->')[1].split(newline)[1]\n",
    "    whole = big0\n",
    "\n",
    "    for sub_album in albums:\n",
    "        images = os.listdir(base_img_folder+sub_album+'/')\n",
    "        listr = ''\n",
    "        for img in images:\n",
    "            listr += (newline.replace('pathzzz',base_img_folder+sub_album+'/'+img))\n",
    "        first1 = first.replace('Subheading',sub_album)\n",
    "        whole += (first1+listr+last)\n",
    "\n",
    "    whole += big2\n",
    "    os.chdir('/home/pj/pj_blog/pics/')\n",
    "    f2 = open(group+'_pics.html','w')\n",
    "    f2.write(whole)\n",
    "    f2.close()"
   ]
  },
  {
   "cell_type": "code",
   "execution_count": 24,
   "metadata": {},
   "outputs": [],
   "source": []
  },
  {
   "cell_type": "code",
   "execution_count": null,
   "metadata": {},
   "outputs": [],
   "source": []
  },
  {
   "cell_type": "code",
   "execution_count": 26,
   "metadata": {},
   "outputs": [],
   "source": [
    "whole = big0\n",
    "\n",
    "for sub_album in albums:\n",
    "    images = os.listdir(base_img_folder+sub_album+'/')\n",
    "    listr = ''\n",
    "    for img in images:\n",
    "        listr += (newline.replace('pathzzz',base_img_folder+sub_album+'/'+img))\n",
    "    first1 = first.replace('Subheading',sub_album)\n",
    "    whole += (first1+listr+last)\n",
    "    \n",
    "whole += big2"
   ]
  },
  {
   "cell_type": "code",
   "execution_count": 27,
   "metadata": {},
   "outputs": [],
   "source": [
    "os.chdir('/home/pj/pj_blog/pics/')\n",
    "f2 = open(group+'_pics.html','w')\n",
    "f2.write(whole)\n",
    "f2.close()"
   ]
  },
  {
   "cell_type": "code",
   "execution_count": null,
   "metadata": {},
   "outputs": [],
   "source": []
  },
  {
   "cell_type": "code",
   "execution_count": null,
   "metadata": {},
   "outputs": [],
   "source": []
  }
 ],
 "metadata": {
  "kernelspec": {
   "display_name": "Python 3",
   "language": "python",
   "name": "python3"
  },
  "language_info": {
   "codemirror_mode": {
    "name": "ipython",
    "version": 3
   },
   "file_extension": ".py",
   "mimetype": "text/x-python",
   "name": "python",
   "nbconvert_exporter": "python",
   "pygments_lexer": "ipython3",
   "version": "3.7.3"
  }
 },
 "nbformat": 4,
 "nbformat_minor": 2
}
