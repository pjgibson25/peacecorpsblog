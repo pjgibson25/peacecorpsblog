{
 "cells": [
  {
   "cell_type": "code",
   "execution_count": 1,
   "metadata": {},
   "outputs": [],
   "source": [
    "import math\n",
    "import pandas as pd\n",
    "import numpy as np\n",
    "import matplotlib.pyplot as plt\n",
    "import os"
   ]
  },
  {
   "cell_type": "markdown",
   "metadata": {},
   "source": [
    "# Change images to numbers"
   ]
  },
  {
   "cell_type": "code",
   "execution_count": 13,
   "metadata": {},
   "outputs": [
    {
     "ename": "FileNotFoundError",
     "evalue": "[Errno 2] No such file or directory: 'images/month2/'",
     "output_type": "error",
     "traceback": [
      "\u001b[0;31m---------------------------------------------------------------------------\u001b[0m",
      "\u001b[0;31mFileNotFoundError\u001b[0m                         Traceback (most recent call last)",
      "\u001b[0;32m<ipython-input-13-c9b6c24cb644>\u001b[0m in \u001b[0;36m<module>\u001b[0;34m\u001b[0m\n\u001b[1;32m      1\u001b[0m \u001b[0mpath\u001b[0m \u001b[0;34m=\u001b[0m \u001b[0;34m'images/month2/'\u001b[0m\u001b[0;34m\u001b[0m\u001b[0;34m\u001b[0m\u001b[0m\n\u001b[0;32m----> 2\u001b[0;31m \u001b[0mdir_contents\u001b[0m \u001b[0;34m=\u001b[0m \u001b[0mnp\u001b[0m\u001b[0;34m.\u001b[0m\u001b[0marray\u001b[0m\u001b[0;34m(\u001b[0m\u001b[0mos\u001b[0m\u001b[0;34m.\u001b[0m\u001b[0mlistdir\u001b[0m\u001b[0;34m(\u001b[0m\u001b[0mpath\u001b[0m\u001b[0;34m)\u001b[0m\u001b[0;34m)\u001b[0m\u001b[0;34m\u001b[0m\u001b[0;34m\u001b[0m\u001b[0m\n\u001b[0m\u001b[1;32m      3\u001b[0m \u001b[0;34m\u001b[0m\u001b[0m\n\u001b[1;32m      4\u001b[0m \u001b[0;31m############################################################\u001b[0m\u001b[0;34m\u001b[0m\u001b[0;34m\u001b[0m\u001b[0;34m\u001b[0m\u001b[0m\n\u001b[1;32m      5\u001b[0m \u001b[0;31m#  Make sure we don't trip over ourselves renaming stuff\u001b[0m\u001b[0;34m\u001b[0m\u001b[0;34m\u001b[0m\u001b[0;34m\u001b[0m\u001b[0m\n",
      "\u001b[0;31mFileNotFoundError\u001b[0m: [Errno 2] No such file or directory: 'images/month2/'"
     ]
    }
   ],
   "source": [
    "path = 'images/month2/'\n",
    "dir_contents = np.array(os.listdir(path))\n",
    "\n",
    "############################################################\n",
    "#  Make sure we don't trip over ourselves renaming stuff\n",
    "############################################################\n",
    "\n",
    "if ('1.jpg' in dir_contents):\n",
    "    switch = 'a'\n",
    "else:\n",
    "    switch = ''\n",
    "\n",
    "############################################################\n",
    "# Rename Files\n",
    "############################################################\n",
    "\n",
    "for i in np.arange(0,len(dir_contents)):\n",
    "    os.rename(path+str(dir_contents[i]),path+str(i)+switch+'.jpg')\n",
    "len(dir_contents)"
   ]
  },
  {
   "cell_type": "markdown",
   "metadata": {},
   "source": [
    "# Create HTML page for month"
   ]
  },
  {
   "cell_type": "code",
   "execution_count": 1,
   "metadata": {},
   "outputs": [],
   "source": [
    "import math\n",
    "import pandas as pd\n",
    "import numpy as np\n",
    "import matplotlib.pyplot as plt\n",
    "import os\n",
    "\n",
    "#groups = ['pst','month1','month2','month3','month4']\n",
    "groups = ['month5']"
   ]
  },
  {
   "cell_type": "code",
   "execution_count": 2,
   "metadata": {},
   "outputs": [],
   "source": [
    "#Select group\n",
    "\n",
    "os.chdir('/home/pj/pj_blog/pics/')\n",
    "f = open('example_pics.html','r')\n",
    "text = f.read()\n",
    "f.close()"
   ]
  },
  {
   "cell_type": "code",
   "execution_count": 21,
   "metadata": {},
   "outputs": [],
   "source": [
    "for i in np.arange(0,len(groups)):\n",
    "    group = groups[i]\n",
    "\n",
    "    base_img_folder = '/home/pj/pj_blog/images/'+group+'/'\n",
    "    albums = os.listdir(base_img_folder)\n",
    "    newline = '\\t\\t\\t\\t\\t\\t\\t\\t\\t\\t\\t\\t<div class=\"col-4\"><span class=\"image fit\"><img src=\"pathzzz\" alt=\"\" class=\"rotateimg0\" /></span></div>\\n'\n",
    "    big0 = text.split('<!-- Content -->')[0]\n",
    "    big2 = text.split('<!-- Content -->')[2]\n",
    "    first = text.split('<!-- Content -->')[1].split(newline)[0]\n",
    "    last = text.split('<!-- Content -->')[1].split(newline)[1]\n",
    "    \n",
    "    \n",
    "    if group[0] == 'm':\n",
    "        big0 = big0.replace('Month # - - - - - (Mon 20 - Mon 20)', 'Month '+group[-1])\n",
    "    else:\n",
    "        big0 = big0.replace('Month # - - - - - (Mon 20 - Mon 20)', group)\n",
    "\n",
    "        \n",
    "    whole = big0\n",
    "    \n",
    "    for sub_album in albums:\n",
    "        images = os.listdir(base_img_folder+sub_album+'/')\n",
    "        listr = ''\n",
    "        for img in images:\n",
    "            listr += (newline.replace('pathzzz',base_img_folder+sub_album+'/'+img))\n",
    "        first1 = first.replace('Subheading',sub_album)\n",
    "        whole += (first1+listr+last)\n",
    "\n",
    "    whole += big2\n",
    "    os.chdir('/home/pj/pj_blog/pics/')\n",
    "    f2 = open(group+'_pics.html','w')\n",
    "    f2.write(whole)\n",
    "    f2.close()"
   ]
  },
  {
   "cell_type": "code",
   "execution_count": 22,
   "metadata": {},
   "outputs": [
    {
     "data": {
      "text/plain": [
       "'/home/pj/pj_blog/images/month5/'"
      ]
     },
     "execution_count": 22,
     "metadata": {},
     "output_type": "execute_result"
    }
   ],
   "source": [
    "base_img_folder"
   ]
  },
  {
   "cell_type": "code",
   "execution_count": 23,
   "metadata": {},
   "outputs": [
    {
     "data": {
      "text/plain": [
       "'./images/month5'"
      ]
     },
     "execution_count": 23,
     "metadata": {},
     "output_type": "execute_result"
    }
   ],
   "source": [
    "'./images/'+grou"
   ]
  },
  {
   "cell_type": "code",
   "execution_count": 10,
   "metadata": {},
   "outputs": [
    {
     "data": {
      "text/plain": [
       "'<!DOCTYPE HTML>\\n<!--\\n\\tSolid State by HTML5 UP\\n\\thtml5up.net | @ajlkn\\n\\tFree for personal and commercial use under the CCA 3.0 license (html5up.net/license)\\n-->\\n<html>\\n\\t<head>\\n\\t\\t<title>PJ Gibson - Pictures</title>\\n\\t\\t<meta charset=\"utf-8\" />\\n\\t\\t<meta name=\"viewport\" content=\"width=device-width, initial-scale=1, user-scalable=no\" />\\n\\t\\t<link rel=\"stylesheet\" href=\"../assets/css/main.css\" />\\n\\t\\t<noscript><link rel=\"stylesheet\" href=\"../assets/css/noscript.css\" /></noscript>\\n\\t</head>\\n\\t<body class=\"is-preload\">\\n\\n\\t\\t<!-- Page Wrapper -->\\n\\t\\t\\t<div id=\"page-wrapper\">\\n\\n\\t\\t\\t\\t<!-- Header -->\\n\\t\\t\\t\\t\\t<header id=\"header\">\\n\\t\\t\\t\\t\\t\\t<h1><a href=\"../index.html\">PJ-Blog</a></h1>\\n\\t\\t\\t\\t\\t\\t<nav>\\n\\t\\t\\t\\t\\t\\t\\t<a href=\"#menu\">Menu</a>\\n\\t\\t\\t\\t\\t\\t</nav>\\n\\t\\t\\t\\t\\t</header>\\n\\n\\t\\t\\t\\t<!-- Menu -->\\n\\t\\t\\t\\t\\t<nav id=\"menu\">\\n\\t\\t\\t\\t\\t\\t<div class=\"inner\">\\n\\t\\t\\t\\t\\t\\t\\t<h2>Menu</h2>\\n\\t\\t\\t\\t\\t\\t\\t<ul class=\"links\">\\n\\t\\t\\t\\t\\t\\t\\t\\t<li><a href=\"../index.html\">Home</a></li>\\n                                                                <li><a href=\"../months.html\">Month-by-Month</a></li>\\n                                                                <li><a href=\"../pics.html\">Pictures</a></li>\\n                                                                <li><a href=\"../site.html\">My Site/Job</a></li>\\n                                                                <li><a href=\"../roses.html\">Roses & Thorns</a></li>\\n\\t\\t\\t\\t\\t\\t\\t</ul>\\n\\t\\t\\t\\t\\t\\t\\t<a href=\"#\" class=\"close\">Close</a>\\n\\t\\t\\t\\t\\t\\t</div>\\n\\t\\t\\t\\t\\t</nav>\\n\\n\\t\\t\\t\\t<!-- Wrapper -->\\n\\t\\t\\t\\t\\t<section id=\"wrapper\">\\n\\t\\t\\t\\t\\t\\t<header>\\n\\t\\t\\t\\t\\t\\t\\t<div class=\"inner\">\\n\\t\\t\\t\\t\\t\\t\\t\\t<h2>Month # - - - - - (Mon 20 - Mon 20)</h2>\\n\\t\\t\\t\\t\\t\\t\\t\\t<p>Check out some of my memories from the past month!  You can right click on any of them and select \"view image\" to see the larger original images.  They should have logical orientations when opened this way.</p>\\n\\t\\t\\t\\t\\t\\t\\t</div>\\n\\t\\t\\t\\t\\t\\t</header>\\n\\n\\t\\t\\t\\t\\t\\t'"
      ]
     },
     "execution_count": 10,
     "metadata": {},
     "output_type": "execute_result"
    }
   ],
   "source": [
    "big0.replace('>Month # - - - - - (Mon 20 - Mon 20)', 'Month '+group[-1])"
   ]
  },
  {
   "cell_type": "code",
   "execution_count": 9,
   "metadata": {},
   "outputs": [],
   "source": [
    "whole = big0\n",
    "\n",
    "for sub_album in albums:\n",
    "    images = os.listdir(base_img_folder+sub_album+'/')\n",
    "    listr = ''\n",
    "    for img in images:\n",
    "        listr += (newline.replace('pathzzz',base_img_folder+sub_album+'/'+img))\n",
    "    first1 = first.replace('Subheading',sub_album)\n",
    "    whole += (first1+listr+last)\n",
    "    \n",
    "whole += big2"
   ]
  },
  {
   "cell_type": "code",
   "execution_count": 10,
   "metadata": {},
   "outputs": [],
   "source": [
    "os.chdir('/home/pj/pj_blog/pics/')\n",
    "f2 = open(group+'_pics.html','w')\n",
    "f2.write(whole)\n",
    "f2.close()"
   ]
  },
  {
   "cell_type": "code",
   "execution_count": null,
   "metadata": {},
   "outputs": [],
   "source": []
  },
  {
   "cell_type": "code",
   "execution_count": null,
   "metadata": {},
   "outputs": [],
   "source": []
  }
 ],
 "metadata": {
  "kernelspec": {
   "display_name": "Python 3",
   "language": "python",
   "name": "python3"
  },
  "language_info": {
   "codemirror_mode": {
    "name": "ipython",
    "version": 3
   },
   "file_extension": ".py",
   "mimetype": "text/x-python",
   "name": "python",
   "nbconvert_exporter": "python",
   "pygments_lexer": "ipython3",
   "version": "3.7.3"
  }
 },
 "nbformat": 4,
 "nbformat_minor": 2
}
