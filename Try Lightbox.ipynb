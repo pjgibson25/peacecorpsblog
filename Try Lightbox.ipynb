{
 "cells": [
  {
   "cell_type": "code",
   "execution_count": 1,
   "metadata": {},
   "outputs": [],
   "source": [
    "import math\n",
    "import pandas as pd\n",
    "import numpy as np\n",
    "import matplotlib.pyplot as plt\n",
    "import os\n",
    "\n",
    "#groups = ['pst','month1','month2','month3','month4','month5']\n",
    "groups = ['month5']"
   ]
  },
  {
   "cell_type": "code",
   "execution_count": 2,
   "metadata": {},
   "outputs": [],
   "source": [
    "#Select group\n",
    "\n",
    "os.chdir('/home/pj/pj_blog/pics/')\n",
    "f = open('newpics.html','r')\n",
    "text = f.read()\n",
    "f.close()"
   ]
  },
  {
   "cell_type": "code",
   "execution_count": 3,
   "metadata": {},
   "outputs": [],
   "source": [
    "pt1 = text.split('<!-- PART1 -->')[1]\n",
    "pt2 = text.split('<!-- PART2 -->')[1]\n",
    "pt3 = text.split('<!-- PART3 -->')[1]"
   ]
  },
  {
   "cell_type": "code",
   "execution_count": null,
   "metadata": {},
   "outputs": [],
   "source": []
  },
  {
   "cell_type": "code",
   "execution_count": null,
   "metadata": {},
   "outputs": [],
   "source": []
  },
  {
   "cell_type": "code",
   "execution_count": 5,
   "metadata": {},
   "outputs": [
    {
     "name": "stdout",
     "output_type": "stream",
     "text": [
      "month5\n"
     ]
    }
   ],
   "source": [
    "for i in np.arange(0,len(groups)):\n",
    "    \n",
    "    os.chdir('/home/pj/pj_blog/pics/')\n",
    "    f = open('newpics.html','r')\n",
    "    text = f.read()\n",
    "    f.close()\n",
    "    \n",
    "    \n",
    "    \n",
    "    \n",
    "    \n",
    "    \n",
    "    group = groups[i]\n",
    "    base_img_folder = '/home/pj/pj_blog/images/'+group+'/'\n",
    "    albums = os.listdir(base_img_folder)\n",
    "    text = text.replace('HEADER',group)\n",
    "    total=1\n",
    "    \n",
    "    \n",
    "    short_folder = '../images/'+group+'/'\n",
    "#Find Total\n",
    "\n",
    "    for sub_album in albums:\n",
    "        images = os.listdir(base_img_folder+sub_album+'/')\n",
    "        for img in images:\n",
    "            total+=1\n",
    "    \n",
    "# Now do serious shit\n",
    "\n",
    "    pt1fill = ''\n",
    "    pt2fill = ''\n",
    "    pt3fill = ''\n",
    "\n",
    "    n = 1\n",
    "    for sub_album in albums:\n",
    "        images = os.listdir(base_img_folder+sub_album+'/')\n",
    "        for img in images:\n",
    "            pt11 = (pt1.replace('CURRENTNUMBER',str(n)))\n",
    "            pt1fill += (pt11.replace('IMAGENAME',short_folder+sub_album+'/'+img))\n",
    "            #################\n",
    "            pt21 = (pt2.replace('NUM / TOTAL', str(n)+' / '+str(total)))\n",
    "            pt2fill += (pt21.replace('IMAGENAME',short_folder+sub_album+'/'+img))\n",
    "            #################\n",
    "            pt31 = (pt3.replace('GROUPNAME', str(sub_album)))\n",
    "            pt3fill += (pt31.replace('IMAGENAME',short_folder+sub_album+'/'+img))\n",
    "            \n",
    "            n += 1\n",
    "            \n",
    "            \n",
    "            \n",
    "    text = text.replace(pt1,pt1fill)\n",
    "    text = text.replace(pt2,pt2fill)\n",
    "    text = text.replace(pt3,pt3fill)\n",
    "                    \n",
    "\n",
    "    os.chdir('/home/pj/pj_blog/pics/')\n",
    "    f2 = open(group+'_picsFUN.html','w')\n",
    "    f2.write(text)\n",
    "    f2.close()\n",
    "    print(group)"
   ]
  },
  {
   "cell_type": "code",
   "execution_count": 6,
   "metadata": {},
   "outputs": [
    {
     "data": {
      "text/plain": [
       "'/home/pj/pj_blog/images/month5/'"
      ]
     },
     "execution_count": 6,
     "metadata": {},
     "output_type": "execute_result"
    }
   ],
   "source": [
    "base_img_folder"
   ]
  },
  {
   "cell_type": "code",
   "execution_count": null,
   "metadata": {},
   "outputs": [],
   "source": []
  }
 ],
 "metadata": {
  "kernelspec": {
   "display_name": "Python 3",
   "language": "python",
   "name": "python3"
  },
  "language_info": {
   "codemirror_mode": {
    "name": "ipython",
    "version": 3
   },
   "file_extension": ".py",
   "mimetype": "text/x-python",
   "name": "python",
   "nbconvert_exporter": "python",
   "pygments_lexer": "ipython3",
   "version": "3.7.3"
  }
 },
 "nbformat": 4,
 "nbformat_minor": 2
}
